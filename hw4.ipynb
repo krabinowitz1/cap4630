{
  "nbformat": 4,
  "nbformat_minor": 0,
  "metadata": {
    "colab": {
      "name": "hw4.ipynb",
      "provenance": [],
      "collapsed_sections": []
    },
    "kernelspec": {
      "name": "python3",
      "display_name": "Python 3"
    }
  },
  "cells": [
    {
      "cell_type": "markdown",
      "metadata": {
        "id": "Kih7JSmIMyS9",
        "colab_type": "text"
      },
      "source": [
        "Arthur Samuel defined machine learning as a field of study that gives computers the ability to learn without being explicity programmed.\n",
        "\n",
        "There are two main types of machine learning: Supervised and unsupervised learning.\n",
        "\n",
        "Supervised learning happens when we give a machine learning algorithm a set of data and train it to make predictions based on the observed relationship between the input (features) and output (labels).\n",
        "\n",
        "A feature is just a property of training data, and a label is the tag that is assigned to the input based on the features drawn from it.\n",
        "\n",
        "Unsupervised learning takes place when a model is trained using a data set and is not told what the output should be. Instead, it looks at the data and tries to figure out what the labels should be based on the features.\n",
        "\n",
        "Whether it is supervised or unsupervised learning, a machine needs to know what to do with the data. That's where models come in. They help point out relationships between data variables. There are many types of models you can use for machine learning. The best model to use depends on the type of problem you're trying to solve. For image classification problems, convolutional neural networks are a good choice. They typically consist of several layers where data passed through. Along the way, neurons extract features and pass results to the next layer for further processing. This is one part of training your model. \n"
      ]
    },
    {
      "cell_type": "code",
      "metadata": {
        "id": "vtl0qidyaHZv",
        "colab_type": "code",
        "colab": {}
      },
      "source": [
        "from keras import models\n",
        "from keras import layers\n",
        "\n",
        "#Adding layers to a machine learning model\n",
        "network = models.Sequential()\n",
        "network.add(layers.Dense(512, activation='relu', input_shape=(28 * 28,)))\n",
        "network.add(layers.Dense(10, activation='softmax'))\n",
        "network.summary()"
      ],
      "execution_count": 0,
      "outputs": []
    },
    {
      "cell_type": "markdown",
      "metadata": {
        "id": "_3NE6BjcaHt6",
        "colab_type": "text"
      },
      "source": [
        "Models need to be trained so that they can improve their ability to make predictions, classify objects, etc. We want our models to produce outputs for a given dataset that are as close as possible to the real values. One needs to be careful when training a model because it could lead to something called overfitting, which is when a model only performs well with the data it trained on. \n",
        "\n",
        "One way to fix the problem of overfitting is to select which features to keep and which to discard. The downside to this is losing useful features that gives us more information about the problem.\n",
        "\n",
        "Rather than training a model from scratch, you can also use a model that has already been trained on a dataset and fine-tuning it to work with our own dataset. This works best when you are using a dataset that is similar to the one the model trained on. One fine-tuning technique is to remove layers from the model and replace them with your own layer that will work better for you specific problem. It is also common to freeze some of the layers of the pre-trained model so there weights don't get adjusted. The model has already spent a lot of time optimizing the weights, so its best to leave them as it is and add your own layers with weights to them.\n"
      ]
    }
  ]
}