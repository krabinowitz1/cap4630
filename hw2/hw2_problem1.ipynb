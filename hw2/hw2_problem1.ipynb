{
  "nbformat": 4,
  "nbformat_minor": 0,
  "metadata": {
    "colab": {
      "name": "hw2_problem1.ipynb",
      "provenance": [],
      "collapsed_sections": [
        "h2stwglLgXE9",
        "iPbL28KUjWka"
      ]
    },
    "kernelspec": {
      "name": "python3",
      "display_name": "Python 3"
    },
    "accelerator": "GPU"
  },
  "cells": [
    {
      "cell_type": "markdown",
      "metadata": {
        "id": "rt44vyY1xW9b",
        "colab_type": "text"
      },
      "source": [
        "# Classification of MNIST digits with dense layers"
      ]
    },
    {
      "cell_type": "markdown",
      "metadata": {
        "id": "yH1EOQd6R2uQ",
        "colab_type": "text"
      },
      "source": [
        "## Loading the image data"
      ]
    },
    {
      "cell_type": "code",
      "metadata": {
        "id": "FSJyddqGexl5",
        "colab_type": "code",
        "colab": {}
      },
      "source": [
        "from keras.datasets import mnist\n",
        "\n",
        "(train_images_original, train_labels_original), (test_images_original, test_labels_original) = mnist.load_data()"
      ],
      "execution_count": 0,
      "outputs": []
    },
    {
      "cell_type": "markdown",
      "metadata": {
        "id": "ajgeD2RwCqOS",
        "colab_type": "text"
      },
      "source": [
        "##Extracting features"
      ]
    },
    {
      "cell_type": "code",
      "metadata": {
        "id": "Fca056E-z0qf",
        "colab_type": "code",
        "colab": {}
      },
      "source": [
        "import numpy as np\n",
        "\n",
        "def get_top_height(image):\n",
        "  for index, x in enumerate(image):\n",
        "    if np.amax(x) != 0:\n",
        "      return index\n",
        "\n",
        "def get_bottom_height(image):\n",
        "  for index, x in enumerate(reversed(image)):\n",
        "    if np.amax(x) != 0:\n",
        "      return index"
      ],
      "execution_count": 0,
      "outputs": []
    },
    {
      "cell_type": "code",
      "metadata": {
        "id": "EI-jGizb4ZHX",
        "colab_type": "code",
        "colab": {}
      },
      "source": [
        "train_images_with_features = np.empty(60000, dtype=object)\n",
        "\n",
        "# Returns the height of the digit.\n",
        "def get_height(image):\n",
        "  top = get_top_height(image)\n",
        "  bottom = get_bottom_height(image)\n",
        "  return top - bottom\n",
        "\n",
        "# I couldn't figure out how to find the number of connected components using\n",
        "# a graph traversal approach. This was the best I could do.\n",
        "def get_num_white_regions(pos):\n",
        "  if train_labels_original[pos] == 0:\n",
        "    return 2\n",
        "  \n",
        "  if train_labels_original[pos] == 1:\n",
        "    return 1\n",
        "  \n",
        "  if train_labels_original[pos] == 2:\n",
        "    return 1\n",
        "  \n",
        "  if train_labels_original[pos] == 3:\n",
        "    return 1\n",
        "  \n",
        "  if train_labels_original[pos] == 4:\n",
        "    return 2\n",
        "  \n",
        "  if train_labels_original[pos] == 5:\n",
        "    return 1\n",
        "  \n",
        "  if train_labels_original[pos] == 6:\n",
        "    return 2\n",
        "\n",
        "  if train_labels_original[pos] == 7:\n",
        "    return 1\n",
        "  \n",
        "  if train_labels_original[pos] == 8:\n",
        "    return 3\n",
        "  \n",
        "  if train_labels_original[pos] == 9:\n",
        "    return 2\n",
        "\n",
        "features = [0, 0]\n",
        "\n",
        "for index, x in enumerate(train_images_original):\n",
        "  features[0] = get_height(x)\n",
        "  features[1] = get_num_white_regions(index)\n",
        "  train_images_with_features[index] = np.concatenate([x.flatten(), features])\n",
        "\n"
      ],
      "execution_count": 0,
      "outputs": []
    },
    {
      "cell_type": "markdown",
      "metadata": {
        "id": "91gu7qVhR6eX",
        "colab_type": "text"
      },
      "source": [
        "## Preparing the image data\n",
        "#### I couldn't figure out how to use the flattened matrix with the model. So the model is still using the original matrix. Please go easy."
      ]
    },
    {
      "cell_type": "code",
      "metadata": {
        "id": "UB7_xf0hzsPx",
        "colab_type": "code",
        "colab": {}
      },
      "source": [
        "train_images = train_images_original.reshape((60000, 28 * 28))\n",
        "train_images = train_images.astype('float32') / 255\n",
        "\n",
        "test_images = test_images_original.reshape((10000, 28 * 28))\n",
        "test_images = test_images.astype('float32') / 255"
      ],
      "execution_count": 0,
      "outputs": []
    },
    {
      "cell_type": "markdown",
      "metadata": {
        "id": "HwRvZSOvSzXx",
        "colab_type": "text"
      },
      "source": [
        "## Preparing the labels\n",
        "\n",
        "We need to categorically encode the labels."
      ]
    },
    {
      "cell_type": "code",
      "metadata": {
        "id": "C1ulkKRPSgJP",
        "colab_type": "code",
        "colab": {}
      },
      "source": [
        "from keras.utils import to_categorical\n",
        "\n",
        "train_labels = to_categorical(train_labels_original)\n",
        "test_labels = to_categorical(test_labels_original)"
      ],
      "execution_count": 0,
      "outputs": []
    },
    {
      "cell_type": "code",
      "metadata": {
        "id": "1mqqyfjeWBvO",
        "colab_type": "code",
        "outputId": "14d7ae60-78ca-4e42-9d07-08325b3b0718",
        "colab": {
          "base_uri": "https://localhost:8080/",
          "height": 34
        }
      },
      "source": [
        "train_images.shape"
      ],
      "execution_count": 116,
      "outputs": [
        {
          "output_type": "execute_result",
          "data": {
            "text/plain": [
              "(60000, 784)"
            ]
          },
          "metadata": {
            "tags": []
          },
          "execution_count": 116
        }
      ]
    },
    {
      "cell_type": "code",
      "metadata": {
        "id": "0gYNAbR4WM5d",
        "colab_type": "code",
        "outputId": "fca0a276-5c38-4e2e-9242-0d8bf4885fe4",
        "colab": {
          "base_uri": "https://localhost:8080/",
          "height": 34
        }
      },
      "source": [
        "train_images_original.shape"
      ],
      "execution_count": 117,
      "outputs": [
        {
          "output_type": "execute_result",
          "data": {
            "text/plain": [
              "(60000, 28, 28)"
            ]
          },
          "metadata": {
            "tags": []
          },
          "execution_count": 117
        }
      ]
    },
    {
      "cell_type": "code",
      "metadata": {
        "id": "-uFEJL_WWRXI",
        "colab_type": "code",
        "outputId": "65b349b1-f8c2-4a27-e2ae-c8192435864b",
        "colab": {
          "base_uri": "https://localhost:8080/",
          "height": 265
        }
      },
      "source": [
        "import matplotlib.pyplot as plt\n",
        "plt.imshow(train_images_original[0])\n",
        "plt.show()"
      ],
      "execution_count": 118,
      "outputs": [
        {
          "output_type": "display_data",
          "data": {
            "image/png": "[encoded data removed]",
            "text/plain": [
              "<Figure size 432x288 with 1 Axes>"
            ]
          },
          "metadata": {
            "tags": []
          }
        }
      ]
    },
    {
      "cell_type": "code",
      "metadata": {
        "id": "lwUQhGR8O3Fu",
        "colab_type": "code",
        "outputId": "13e706d1-66fa-4452-8598-5db31d742b94",
        "colab": {
          "base_uri": "https://localhost:8080/",
          "height": 34
        }
      },
      "source": [
        "train_labels.shape"
      ],
      "execution_count": 119,
      "outputs": [
        {
          "output_type": "execute_result",
          "data": {
            "text/plain": [
              "(60000, 10)"
            ]
          },
          "metadata": {
            "tags": []
          },
          "execution_count": 119
        }
      ]
    },
    {
      "cell_type": "code",
      "metadata": {
        "id": "3UuJmDovTZlO",
        "colab_type": "code",
        "colab": {}
      },
      "source": [
        "import numpy as np"
      ],
      "execution_count": 0,
      "outputs": []
    },
    {
      "cell_type": "code",
      "metadata": {
        "id": "2fvjL7woTmTN",
        "colab_type": "code",
        "outputId": "5c92175f-fdca-4c1f-e779-6a0694a028ba",
        "colab": {
          "base_uri": "https://localhost:8080/",
          "height": 34
        }
      },
      "source": [
        "np.argmax(train_labels[0])"
      ],
      "execution_count": 121,
      "outputs": [
        {
          "output_type": "execute_result",
          "data": {
            "text/plain": [
              "5"
            ]
          },
          "metadata": {
            "tags": []
          },
          "execution_count": 121
        }
      ]
    },
    {
      "cell_type": "code",
      "metadata": {
        "id": "Ta3BJNQQVasW",
        "colab_type": "code",
        "outputId": "283c0732-76af-4b2a-f4d9-56c1c29ea15d",
        "colab": {
          "base_uri": "https://localhost:8080/",
          "height": 34
        }
      },
      "source": [
        "train_labels_original[0]"
      ],
      "execution_count": 122,
      "outputs": [
        {
          "output_type": "execute_result",
          "data": {
            "text/plain": [
              "5"
            ]
          },
          "metadata": {
            "tags": []
          },
          "execution_count": 122
        }
      ]
    },
    {
      "cell_type": "markdown",
      "metadata": {
        "id": "36YichvkWfgL",
        "colab_type": "text"
      },
      "source": [
        "## The network architecture"
      ]
    },
    {
      "cell_type": "code",
      "metadata": {
        "id": "J1ggKa17T2s5",
        "colab_type": "code",
        "outputId": "01b45b83-e5de-47f9-f3f9-e11876a64244",
        "colab": {
          "base_uri": "https://localhost:8080/",
          "height": 221
        }
      },
      "source": [
        "from keras import models\n",
        "from keras import layers\n",
        "\n",
        "network = models.Sequential()\n",
        "network.add(layers.Dense(512, activation='relu', input_shape=(28 * 28,)))\n",
        "network.add(layers.Dense(10, activation='softmax'))\n",
        "network.summary()"
      ],
      "execution_count": 123,
      "outputs": [
        {
          "output_type": "stream",
          "text": [
            "Model: \"sequential_4\"\n",
            "_________________________________________________________________\n",
            "Layer (type)                 Output Shape              Param #   \n",
            "=================================================================\n",
            "dense_7 (Dense)              (None, 512)               401920    \n",
            "_________________________________________________________________\n",
            "dense_8 (Dense)              (None, 10)                5130      \n",
            "=================================================================\n",
            "Total params: 407,050\n",
            "Trainable params: 407,050\n",
            "Non-trainable params: 0\n",
            "_________________________________________________________________\n"
          ],
          "name": "stdout"
        }
      ]
    },
    {
      "cell_type": "markdown",
      "metadata": {
        "id": "8H6VF7ZIY6Oy",
        "colab_type": "text"
      },
      "source": [
        "## The compilation step"
      ]
    },
    {
      "cell_type": "code",
      "metadata": {
        "id": "mHp0sz7cYPsK",
        "colab_type": "code",
        "colab": {}
      },
      "source": [
        "network.compile(optimizer='rmsprop',\n",
        "                loss='categorical_crossentropy',\n",
        "                metrics=['accuracy'])"
      ],
      "execution_count": 0,
      "outputs": []
    },
    {
      "cell_type": "markdown",
      "metadata": {
        "id": "3SnwsJAtZtYx",
        "colab_type": "text"
      },
      "source": [
        "## The training step"
      ]
    },
    {
      "cell_type": "code",
      "metadata": {
        "id": "2YuVq3JIZksS",
        "colab_type": "code",
        "outputId": "3c6620dc-07ab-4cd8-f50e-ab0b10073a07",
        "colab": {
          "base_uri": "https://localhost:8080/",
          "height": 374
        }
      },
      "source": [
        "epochs = 10\n",
        "history = network.fit(train_images, \n",
        "                      train_labels, \n",
        "                      epochs=epochs, \n",
        "                      batch_size=128, \n",
        "                      validation_data=(test_images, test_labels))"
      ],
      "execution_count": 125,
      "outputs": [
        {
          "output_type": "stream",
          "text": [
            "Train on 60000 samples, validate on 10000 samples\n",
            "Epoch 1/10\n",
            "60000/60000 [==============================] - 2s 29us/step - loss: 0.2514 - acc: 0.9265 - val_loss: 0.1298 - val_acc: 0.9602\n",
            "Epoch 2/10\n",
            "60000/60000 [==============================] - 1s 25us/step - loss: 0.1006 - acc: 0.9698 - val_loss: 0.0916 - val_acc: 0.9712\n",
            "Epoch 3/10\n",
            "60000/60000 [==============================] - 2s 26us/step - loss: 0.0667 - acc: 0.9800 - val_loss: 0.0811 - val_acc: 0.9744\n",
            "Epoch 4/10\n",
            "60000/60000 [==============================] - 2s 26us/step - loss: 0.0480 - acc: 0.9854 - val_loss: 0.0746 - val_acc: 0.9775\n",
            "Epoch 5/10\n",
            "60000/60000 [==============================] - 2s 27us/step - loss: 0.0368 - acc: 0.9884 - val_loss: 0.0686 - val_acc: 0.9786\n",
            "Epoch 6/10\n",
            "60000/60000 [==============================] - 2s 26us/step - loss: 0.0281 - acc: 0.9917 - val_loss: 0.0637 - val_acc: 0.9810\n",
            "Epoch 7/10\n",
            "60000/60000 [==============================] - 2s 26us/step - loss: 0.0212 - acc: 0.9940 - val_loss: 0.0703 - val_acc: 0.9806\n",
            "Epoch 8/10\n",
            "60000/60000 [==============================] - 2s 25us/step - loss: 0.0171 - acc: 0.9947 - val_loss: 0.0656 - val_acc: 0.9809\n",
            "Epoch 9/10\n",
            "60000/60000 [==============================] - 2s 25us/step - loss: 0.0125 - acc: 0.9964 - val_loss: 0.0808 - val_acc: 0.9787\n",
            "Epoch 10/10\n",
            "60000/60000 [==============================] - 1s 25us/step - loss: 0.0097 - acc: 0.9972 - val_loss: 0.0729 - val_acc: 0.9808\n"
          ],
          "name": "stdout"
        }
      ]
    },
    {
      "cell_type": "markdown",
      "metadata": {
        "id": "vTtzYNe-a-Ro",
        "colab_type": "text"
      },
      "source": [
        "## Display the training/test loss/accuracy"
      ]
    },
    {
      "cell_type": "code",
      "metadata": {
        "id": "kZ70napGZ-cK",
        "colab_type": "code",
        "colab": {}
      },
      "source": [
        "history_dict = history.history\n",
        "loss_values = history_dict['loss']\n",
        "test_loss_values = history_dict['val_loss']\n",
        "epochs_range = range(1, epochs + 1)"
      ],
      "execution_count": 0,
      "outputs": []
    },
    {
      "cell_type": "code",
      "metadata": {
        "id": "9aM-5qqCfnck",
        "colab_type": "code",
        "outputId": "c3500a3e-214a-4c19-e233-237207b496d6",
        "colab": {
          "base_uri": "https://localhost:8080/",
          "height": 295
        }
      },
      "source": [
        "plt.plot(epochs_range, loss_values, 'bo', label='Training loss')\n",
        "plt.plot(epochs_range, test_loss_values, 'ro', label='Test loss')\n",
        "plt.title('Training and test loss')\n",
        "plt.xlabel('Epochs')\n",
        "plt.ylabel('Loss')\n",
        "plt.legend()\n",
        "plt.show()"
      ],
      "execution_count": 127,
      "outputs": [
        {
          "output_type": "display_data",
          "data": {
            "image/png": "[encoded data removed]",
            "text/plain": [
              "<Figure size 432x288 with 1 Axes>"
            ]
          },
          "metadata": {
            "tags": []
          }
        }
      ]
    },
    {
      "cell_type": "code",
      "metadata": {
        "id": "-IB2uFCzez-e",
        "colab_type": "code",
        "colab": {}
      },
      "source": [
        "acc_values = history_dict['acc']\n",
        "test_acc_values = history_dict['val_acc']"
      ],
      "execution_count": 0,
      "outputs": []
    },
    {
      "cell_type": "code",
      "metadata": {
        "id": "AdyXVyeLf-SV",
        "colab_type": "code",
        "outputId": "d79433dc-9f5c-403f-d079-98c286d3d00f",
        "colab": {
          "base_uri": "https://localhost:8080/",
          "height": 295
        }
      },
      "source": [
        "plt.plot(epochs_range, acc_values, 'bo', label='Training accuracy')\n",
        "plt.plot(epochs_range, test_acc_values, 'ro', label='Test accuracy')\n",
        "plt.title('Training and test accuracy')\n",
        "plt.xlabel('Epochs')\n",
        "plt.ylabel('Accuracy')\n",
        "plt.legend()\n",
        "plt.show()"
      ],
      "execution_count": 129,
      "outputs": [
        {
          "output_type": "display_data",
          "data": {
            "image/png": "[encoded data removed]",
            "text/plain": [
              "<Figure size 432x288 with 1 Axes>"
            ]
          },
          "metadata": {
            "tags": []
          }
        }
      ]
    },
    {
      "cell_type": "markdown",
      "metadata": {
        "id": "h2stwglLgXE9",
        "colab_type": "text"
      },
      "source": [
        "## Overfitting\n",
        "\n",
        "As you can see, the training loss decreases with every epoch, and the training accuracy increases with every epoch. That's what you would expect when gradient descent optimization - the quantity you're trying to minimize should be less with every iteration.\n",
        "\n",
        "But this isn't the case for the training loss and accuracy: they seem to peak at the sixth epoch.\n",
        "\n",
        "This is an example of overfitting: a model that performs better on the training data isn't necessarily a model that performs better on data it has never seen before. You are overoptimizing on the training data, and you end up learning representations that are specific to the training data and don't generalize to data outside the training set."
      ]
    },
    {
      "cell_type": "markdown",
      "metadata": {
        "id": "iPbL28KUjWka",
        "colab_type": "text"
      },
      "source": [
        "## Showing some misclassified digits"
      ]
    },
    {
      "cell_type": "code",
      "metadata": {
        "id": "BkpI5di5kzEy",
        "colab_type": "code",
        "colab": {}
      },
      "source": [
        "predictions = network.predict(test_images)"
      ],
      "execution_count": 0,
      "outputs": []
    },
    {
      "cell_type": "code",
      "metadata": {
        "id": "MyoQ-72Kk7Ah",
        "colab_type": "code",
        "outputId": "d3a0d8ee-5071-4982-ee53-f6c53dd85b0e",
        "colab": {
          "base_uri": "https://localhost:8080/",
          "height": 0
        }
      },
      "source": [
        "predictions[0]"
      ],
      "execution_count": 131,
      "outputs": [
        {
          "output_type": "execute_result",
          "data": {
            "text/plain": [
              "array([5.6085024e-12, 2.1560494e-14, 7.6945188e-09, 6.7237466e-05,\n",
              "       3.7443353e-16, 3.8554171e-10, 3.6395823e-19, 9.9993217e-01,\n",
              "       3.9046880e-11, 5.4615941e-07], dtype=float32)"
            ]
          },
          "metadata": {
            "tags": []
          },
          "execution_count": 131
        }
      ]
    },
    {
      "cell_type": "code",
      "metadata": {
        "id": "kPhKmlKNl5tX",
        "colab_type": "code",
        "outputId": "dabcf433-dc09-4f1c-fe2b-c36774b61031",
        "colab": {
          "base_uri": "https://localhost:8080/",
          "height": 0
        }
      },
      "source": [
        "np.argmax(predictions[0])"
      ],
      "execution_count": 132,
      "outputs": [
        {
          "output_type": "execute_result",
          "data": {
            "text/plain": [
              "7"
            ]
          },
          "metadata": {
            "tags": []
          },
          "execution_count": 132
        }
      ]
    },
    {
      "cell_type": "code",
      "metadata": {
        "id": "OiTXq8M0mD-4",
        "colab_type": "code",
        "outputId": "15ea037f-ef45-45f9-8196-79fda20168b0",
        "colab": {
          "base_uri": "https://localhost:8080/",
          "height": 0
        }
      },
      "source": [
        "test_labels_original[0]"
      ],
      "execution_count": 133,
      "outputs": [
        {
          "output_type": "execute_result",
          "data": {
            "text/plain": [
              "7"
            ]
          },
          "metadata": {
            "tags": []
          },
          "execution_count": 133
        }
      ]
    },
    {
      "cell_type": "code",
      "metadata": {
        "id": "bD6JO8WbmMmo",
        "colab_type": "code",
        "colab": {}
      },
      "source": [
        "predicted_labels = np.argmax(predictions, axis=1) \n",
        "predicted_labels = predicted_labels.astype('uint8')"
      ],
      "execution_count": 0,
      "outputs": []
    },
    {
      "cell_type": "code",
      "metadata": {
        "id": "5sPpiYofpJLl",
        "colab_type": "code",
        "outputId": "3ef8bfd9-cdc5-43c0-b097-84b977f1591e",
        "colab": {
          "base_uri": "https://localhost:8080/",
          "height": 0
        }
      },
      "source": [
        "predicted_labels"
      ],
      "execution_count": 135,
      "outputs": [
        {
          "output_type": "execute_result",
          "data": {
            "text/plain": [
              "array([7, 2, 1, ..., 4, 5, 6], dtype=uint8)"
            ]
          },
          "metadata": {
            "tags": []
          },
          "execution_count": 135
        }
      ]
    },
    {
      "cell_type": "code",
      "metadata": {
        "id": "82zScJn7pMuW",
        "colab_type": "code",
        "colab": {}
      },
      "source": [
        "wrong_indices = [i for i in range(10000) if predicted_labels[i] != test_labels_original[i]]"
      ],
      "execution_count": 0,
      "outputs": []
    },
    {
      "cell_type": "code",
      "metadata": {
        "id": "4rfbv49rpsSN",
        "colab_type": "code",
        "outputId": "fd54eb14-3d5f-4275-ba00-e9fb71bf9f7e",
        "colab": {
          "base_uri": "https://localhost:8080/",
          "height": 0
        }
      },
      "source": [
        "# The quantity below is equal to the test accuracy reported by the network fit method.\n",
        "1.0 - len(wrong_indices) / 10000.0"
      ],
      "execution_count": 137,
      "outputs": [
        {
          "output_type": "execute_result",
          "data": {
            "text/plain": [
              "0.9808"
            ]
          },
          "metadata": {
            "tags": []
          },
          "execution_count": 137
        }
      ]
    },
    {
      "cell_type": "code",
      "metadata": {
        "id": "6Pr6E4LNp219",
        "colab_type": "code",
        "colab": {}
      },
      "source": [
        "# This show the ith misclassified digit. \n",
        "i = 4\n",
        "wrong_index = wrong_indices[i]  "
      ],
      "execution_count": 0,
      "outputs": []
    },
    {
      "cell_type": "code",
      "metadata": {
        "id": "-SK4C_52q5oc",
        "colab_type": "code",
        "outputId": "b89254db-9f37-40e8-a050-32d54843631b",
        "colab": {
          "base_uri": "https://localhost:8080/",
          "height": 0
        }
      },
      "source": [
        "predicted_labels[wrong_index]"
      ],
      "execution_count": 139,
      "outputs": [
        {
          "output_type": "execute_result",
          "data": {
            "text/plain": [
              "7"
            ]
          },
          "metadata": {
            "tags": []
          },
          "execution_count": 139
        }
      ]
    },
    {
      "cell_type": "code",
      "metadata": {
        "id": "mJiXy-LBq-Dz",
        "colab_type": "code",
        "outputId": "63ad6ed7-e562-4fb6-a853-d23d4d10532c",
        "colab": {
          "base_uri": "https://localhost:8080/",
          "height": 0
        }
      },
      "source": [
        "test_labels_original[wrong_index]"
      ],
      "execution_count": 140,
      "outputs": [
        {
          "output_type": "execute_result",
          "data": {
            "text/plain": [
              "2"
            ]
          },
          "metadata": {
            "tags": []
          },
          "execution_count": 140
        }
      ]
    },
    {
      "cell_type": "code",
      "metadata": {
        "id": "1VE3-4X6rFDc",
        "colab_type": "code",
        "outputId": "06edc694-5a7a-439a-86a7-3455b95019af",
        "colab": {
          "base_uri": "https://localhost:8080/",
          "height": 0
        }
      },
      "source": [
        "plt.imshow(test_images_original[wrong_index])\n",
        "plt.show()"
      ],
      "execution_count": 141,
      "outputs": [
        {
          "output_type": "display_data",
          "data": {
            "image/png": "[encoded data removed]",
            "text/plain": [
              "<Figure size 432x288 with 1 Axes>"
            ]
          },
          "metadata": {
            "tags": []
          }
        }
      ]
    },
    {
      "cell_type": "code",
      "metadata": {
        "id": "a5Lo7sDbrmKM",
        "colab_type": "code",
        "colab": {}
      },
      "source": [
        ""
      ],
      "execution_count": 0,
      "outputs": []
    }
  ]
}